{
 "cells": [
  {
   "cell_type": "code",
   "execution_count": 57,
   "metadata": {},
   "outputs": [],
   "source": [
    "import bs4\n",
    "from urllib.request import Request, urlopen\n",
    "import pandas as pd\n",
    "\n",
    "#beautiful soup documentation: https://www.crummy.com/software/BeautifulSoup/bs4/doc/\n",
    "\n",
    "req = Request('https://www.billboard.com/charts/hot-100', headers={'User-Agent': 'Mozilla/5.0'})\n",
    "webpage = urlopen(req).read()\n"
   ]
  },
  {
   "cell_type": "code",
   "execution_count": 73,
   "metadata": {},
   "outputs": [
    {
     "name": "stdout",
     "output_type": "stream",
     "text": [
      "https://www.billboard.com/articles/news/lyrics/8506481/lil-nas-x-old-town-road-lyrics\n",
      "https://www.billboard.com/articles/news/lyrics/8506493/billie-eilish-bad-guy-lyrics\n",
      "https://www.billboard.com/articles/news/lyrics/8518353/shawn-mendes-camila-cabello-senorita-lyrics\n",
      "https://www.billboard.com/articles/news/lyrics/8517815/lizzo-truth-hurts-lyrics\n",
      "https://www.billboard.com/articles/news/lyrics/8507489/khalid-talk-lyrics\n",
      "https://www.billboard.com/articles/news/lyrics/8516773/chris-brown-no-guidance-lyrics-drake\n",
      "https://www.billboard.com/articles/news/lyrics/8512438/justin-bieber-ed-sheeran-i-dont-care-lyrics\n",
      "https://www.billboard.com/articles/news/lyrics/8524995/post-malone-goodbyes-lyrics-young-thug\n",
      "https://www.billboard.com/articles/news/lyrics/8512646/shawn-mendes-if-i-cant-have-you-lyrics\n",
      "https://www.billboard.com/articles/news/lyrics/8503236/jonas-brothers-sucker-lyrics\n",
      "https://www.billboard.com/articles/news/lyrics/8517813/drake-money-in-the-grave-lyrics\n",
      "https://www.billboard.com/articles/news/lyrics/8482505/post-malone-sunflower-lyrics-swae-lee\n",
      "https://www.billboard.com/articles/news/lyrics/8516923/dababy-suge-lyrics\n",
      "https://www.billboard.com/articles/news/lyrics/8518720/taylor-swift-you-need-to-calm-down-lyrics\n",
      "https://www.billboard.com/articles/news/lyrics/8519098/panic-at-the-disco-hey-look-ma-i-made-it-lyrics\n",
      "https://www.billboard.com/articles/news/lyrics/8503586/sam-smith-normani-dancing-with-a-stranger-lyrics\n",
      "https://www.billboard.com/articles/news/lyrics/8501236/post-malone-wow-lyrics\n",
      "https://www.billboard.com/articles/news/lyrics/8480267/halsey-without-me-lyrics\n",
      "https://www.billboard.com/articles/news/lyrics/8512653/polo-g-lil-tjay-pop-out-lyrics\n",
      "https://www.billboard.com/articles/news/8478048/marshmello-happier-lyrics-bastille\n",
      "https://www.billboard.com/articles/news/lyrics/8520268/young-thug-the-london-lyrics-feat-j-cole-and-travis-scott\n",
      "https://www.billboard.com/articles/news/lyrics/8482670/dan-and-shay-speechless-lyrics\n",
      "https://www.billboard.com/articles/news/lyrics/8512835/blake-shelton-gods-country-lyrics\n",
      "https://www.billboard.com/articles/news/lyrics/8500982/ariana-grande-7-rings-lyrics\n",
      "https://www.billboard.com/articles/news/lyrics/8518725/lil-nas-x-panini-lyrics\n",
      "https://www.billboard.com/articles/news/lyrics/8523421/luke-bryan-knockin-boots-lyrics\n",
      "https://www.billboard.com/articles/news/lyrics/8523996/dan-and-shay-all-to-myself-lyrics\n",
      "https://www.billboard.com/articles/news/lyrics/8503621/ava-max-sweet-but-psycho-lyrics\n",
      "https://www.billboard.com/articles/news/lyrics/8525042/sam-smith-how-do-you-sleep-lyrics\n",
      "https://www.billboard.com/articles/news/lyrics/8518362/morgan-wallen-whiskey-glasses-lyrics\n",
      "https://www.billboard.com/articles/news/lyrics/8525042/sam-smith-how-do-you-sleep-lyrics\n",
      "https://www.billboard.com/articles/news/lyrics/8520493/nle-choppa-shotta-flow-lyrics\n",
      "https://www.billboard.com/articles/news/lyrics/8526144/jason-aldean-rearview-town-lyrics\n",
      "https://www.billboard.com/articles/news/lyrics/8525788/megan-thee-stallion-cash-shit-lyrics-dababy\n",
      "https://www.billboard.com/articles/news/lyrics/8482516/khalid-better-lyrics\n",
      "https://www.billboard.com/articles/columns/latin/8518526/sech-darell-otro-trago-lyrics-translated-english\n",
      "https://www.billboard.com/articles/news/lyrics/8525675/lil-baby-dababy-baby-lyrics\n",
      "https://www.billboard.com/articles/news/lyrics/8503247/meek-mill-drake-going-bad-lyrics\n",
      "https://www.billboard.com/articles/news/lyrics/8525793/yk-osiris-worth-it-lyrics\n",
      "https://www.billboard.com/articles/news/lyrics/8477999/lady-gaga-bradley-cooper-shallow-lyrics-a-star-is-born\n",
      "https://www.billboard.com/articles/news/lyrics/8523994/offset-clout-lyrics-feat-cardi-b\n",
      "https://www.billboard.com/articles/news/lyrics/8526152/yg-go-loko-lyrics-tyga-jon-z\n",
      "https://www.billboard.com/articles/columns/latin/8517944/bad-bunny-callaita-english-lyric-translation\n",
      "https://www.billboard.com/articles/news/lyrics/8523462/eric-church-some-of-it-lyrics\n",
      "https://www.billboard.com/articles/columns/pop/8511660/taylor-swift-me-lyrics\n",
      "https://www.billboard.com/articles/columns/latin/8514581/lunay-bad-bunny-daddy-yankee-soltera-remix-lyrics-translated-english\n",
      "https://www.billboard.com/articles/columns/latin/8517729/jhay-cortez-no-me-conoce-lyrics-translated-english\n",
      "https://www.billboard.com/articles/news/lyrics/8523630/ed-sheeran-antisocial-lyrics-travis-scott\n",
      "https://www.billboard.com/articles/news/lyrics/8523467/lil-nas-x-rodeo-lyrics-featuring-cardi-b\n"
     ]
    }
   ],
   "source": [
    "soup = bs4.BeautifulSoup(webpage, 'lxml')\n",
    "song_divs = soup.find_all(attrs={\"class\": \"chart-list-item\"})\n",
    "\n",
    "data = []\n",
    "\n",
    "for song_div in song_divs:\n",
    "    #parse data out of divs\n",
    "    title = song_div['data-title']\n",
    "    rank = song_div['data-rank']\n",
    "    artist = song_div['data-artist']\n",
    "    \n",
    "    down_arrow = song_div.find(attrs={'src':'https://assets.billboard.com/assets/1565881383/images/charts/arrow-down.svg?f5cede3a841850a742ad'})\n",
    "    up_arrow = song_div.find(attrs={'src':'https://assets.billboard.com/assets/1565881383/images/charts/arrow-up.svg?f5cede3a841850a742ad'})\n",
    "    \n",
    "    #find if song is trending\n",
    "    trending = ''\n",
    "    \n",
    "    if down_arrow != None:\n",
    "        trending = 'down'\n",
    "    \n",
    "    if up_arrow != None:\n",
    "        trending = 'up'\n",
    "        \n",
    "    #find if song has lyrics\n",
    "    lyrics_link_container = song_div.find(attrs={'class':'chart-list-item__lyrics '})\n",
    "    if lyrics_link_container != None:\n",
    "        url = lyrics_link_container.find('a')['href']\n",
    "        lyrics_req = Request(url, )\n",
    "        lyrics_webpage = urlopen(lyrics_req).read()\n",
    "        #print(url)\n",
    "    \n",
    "    \n",
    "    #create dictionary for dataset\n",
    "    song = {}\n",
    "    \n",
    "    song['title'] = title\n",
    "    song['rank'] = rank\n",
    "    song['artist'] = artist\n",
    "    song['trending'] = trending\n",
    "    data.append(song)\n",
    "    \n"
   ]
  },
  {
   "cell_type": "code",
   "execution_count": 68,
   "metadata": {},
   "outputs": [],
   "source": [
    "df = pd.DataFrame(data)\n",
    "df.to_csv('./output/top-100.csv', index=False)"
   ]
  },
  {
   "cell_type": "code",
   "execution_count": null,
   "metadata": {},
   "outputs": [],
   "source": []
  }
 ],
 "metadata": {
  "kernelspec": {
   "display_name": "Python 3",
   "language": "python",
   "name": "python3"
  },
  "language_info": {
   "codemirror_mode": {
    "name": "ipython",
    "version": 3
   },
   "file_extension": ".py",
   "mimetype": "text/x-python",
   "name": "python",
   "nbconvert_exporter": "python",
   "pygments_lexer": "ipython3",
   "version": "3.7.1"
  }
 },
 "nbformat": 4,
 "nbformat_minor": 2
}
