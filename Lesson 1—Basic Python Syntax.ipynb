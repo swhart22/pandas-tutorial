{
 "cells": [
  {
   "cell_type": "code",
   "execution_count": null,
   "metadata": {},
   "outputs": [],
   "source": []
  },
  {
   "cell_type": "code",
   "execution_count": 15,
   "metadata": {},
   "outputs": [],
   "source": [
    "#This is a comment."
   ]
  },
  {
   "cell_type": "code",
   "execution_count": 33,
   "metadata": {},
   "outputs": [
    {
     "name": "stdout",
     "output_type": "stream",
     "text": [
      "Hello world!\n"
     ]
    }
   ],
   "source": [
    "print('Hello world!')"
   ]
  },
  {
   "cell_type": "code",
   "execution_count": 23,
   "metadata": {},
   "outputs": [
    {
     "name": "stdout",
     "output_type": "stream",
     "text": [
      "1.1\n"
     ]
    }
   ],
   "source": [
    "print(1)"
   ]
  },
  {
   "cell_type": "code",
   "execution_count": 27,
   "metadata": {},
   "outputs": [
    {
     "name": "stdout",
     "output_type": "stream",
     "text": [
      "8\n",
      "6\n",
      "4.0\n",
      "9\n"
     ]
    }
   ],
   "source": [
    "print(1 + 7)\n",
    "print(7 - 1)\n",
    "print(36 / 9)\n",
    "print(3 * 3)"
   ]
  },
  {
   "cell_type": "code",
   "execution_count": 44,
   "metadata": {},
   "outputs": [
    {
     "name": "stdout",
     "output_type": "stream",
     "text": [
      "6\n",
      "3\n",
      "3 remainder 6\n",
      "9\n"
     ]
    }
   ],
   "source": [
    "print(36 % 10)\n",
    "print(36 // 10)\n",
    "print(str(36 // 10) + ' remainder ' + str(36 % 10))\n",
    "print(3**2)"
   ]
  },
  {
   "cell_type": "code",
   "execution_count": 36,
   "metadata": {},
   "outputs": [
    {
     "name": "stdout",
     "output_type": "stream",
     "text": [
      "2\n",
      "2.0\n"
     ]
    }
   ],
   "source": [
    "print(1 + 1)\n",
    "print(float('1') + 1)\n"
   ]
  },
  {
   "cell_type": "code",
   "execution_count": 62,
   "metadata": {},
   "outputs": [
    {
     "name": "stdout",
     "output_type": "stream",
     "text": [
      "Vrushank is 71inches tall\n"
     ]
    }
   ],
   "source": [
    "name = 'Sam'\n",
    "\n",
    "\n",
    "height = 71\n",
    "unit = 'inches'\n",
    "\n",
    "name = 'Vrushank'\n",
    "\n",
    "print(name + ' is ' + str(height) + unit + ' tall')\n",
    "\n"
   ]
  },
  {
   "cell_type": "code",
   "execution_count": 65,
   "metadata": {},
   "outputs": [
    {
     "name": "stdout",
     "output_type": "stream",
     "text": [
      "Vrushank is 71 inches tall\n",
      "Vrushank is 71 inches tall.\n",
      "Vrushank is 71 inches tall\n",
      "Vrushank is 5 feet and 11 inches tall.\n"
     ]
    }
   ],
   "source": [
    "print(name + ' is ' + str(height) + ' ' + unit + ' tall')\n",
    "print('{} is {} {} tall.'.format(name, height, unit))\n",
    "print(f'{name} is {height} {unit} tall')\n",
    "print(f'{name} is {height // 12} feet and {height % 12} inches tall.')"
   ]
  },
  {
   "cell_type": "code",
   "execution_count": 74,
   "metadata": {},
   "outputs": [
    {
     "name": "stdout",
     "output_type": "stream",
     "text": [
      "6 feet and 0 inches\n"
     ]
    }
   ],
   "source": [
    "def formatHeight(inches):\n",
    "    feet = inches // 12\n",
    "    remainder = inches % 12\n",
    "    return f'{feet} feet and {remainder} inches'\n",
    "\n",
    "print(formatHeight(72))"
   ]
  },
  {
   "cell_type": "code",
   "execution_count": 75,
   "metadata": {},
   "outputs": [
    {
     "name": "stdout",
     "output_type": "stream",
     "text": [
      "Vrushank is 6 feet and 8 inches\n"
     ]
    }
   ],
   "source": [
    "print(f'{name} is { formatHeight(80) }')"
   ]
  },
  {
   "cell_type": "code",
   "execution_count": 88,
   "metadata": {},
   "outputs": [
    {
     "name": "stdout",
     "output_type": "stream",
     "text": [
      "{'name': 'Sam', 'height': 72}\n",
      "Sam\n",
      "72\n",
      "6 feet and 0 inches\n"
     ]
    }
   ],
   "source": [
    "sam = {'name': 'Sam', 'height': 72}\n",
    "print(sam)\n",
    "print(sam['name'])\n",
    "print(sam['height'])\n",
    "print(formatHeight(sam['height']))"
   ]
  },
  {
   "cell_type": "code",
   "execution_count": 89,
   "metadata": {},
   "outputs": [],
   "source": [
    "sam['favorite artist'] = 'Mariah Carey'\n",
    "sam['height'] = 80\n",
    "\n",
    "#print(sam[1])"
   ]
  },
  {
   "cell_type": "code",
   "execution_count": 116,
   "metadata": {},
   "outputs": [
    {
     "name": "stdout",
     "output_type": "stream",
     "text": [
      "True\n",
      "False\n",
      "True\n",
      "False\n",
      "True\n",
      "False\n",
      "True\n",
      "True\n",
      "False\n",
      "False\n",
      "False\n",
      "False\n"
     ]
    }
   ],
   "source": [
    "print(True)\n",
    "print(False)\n",
    "print(1 + 1 == 2)\n",
    "print(1 + 1 == 3)\n",
    "print(1 + 1 != 3)\n",
    "print(1 + 1 >= 3)\n",
    "print(0 == False)\n",
    "print(1 == True)\n",
    "print(2 == True)\n",
    "print(sam['height'] >= 82)\n",
    "print('favorite artist' not in sam)\n",
    "print(1 - 1 == -1 and 1 + 1 == 2)"
   ]
  },
  {
   "cell_type": "code",
   "execution_count": 117,
   "metadata": {},
   "outputs": [
    {
     "name": "stdout",
     "output_type": "stream",
     "text": [
      "6 feet\n"
     ]
    }
   ],
   "source": [
    "#CHALLENGE: what's another way we could write this?\n",
    "def formatHeight2 (person):\n",
    "    height = person['height']\n",
    "    feet = height // 12\n",
    "    remainder = height % 12\n",
    "    output = ''\n",
    "    \n",
    "    if remainder == 0:\n",
    "        output = f'{feet} feet'\n",
    "    else: \n",
    "        output = f'{feet} feet and {remainder} inches'\n",
    "    return output\n",
    "\n",
    "sam['height'] = 72\n",
    "print(formatHeight2(sam))"
   ]
  },
  {
   "cell_type": "code",
   "execution_count": 118,
   "metadata": {},
   "outputs": [
    {
     "name": "stdout",
     "output_type": "stream",
     "text": [
      "7\n",
      "True\n",
      "False\n",
      "True\n"
     ]
    }
   ],
   "source": [
    "classmates = ['Vrushank', 'Yuqing', 'Emilie', 'Nina', 'Nelson', 'Dan', 'Noreen']\n",
    "print(len(classmates))\n",
    "print('Vrushank' in classmates)\n",
    "print('Sam' in classmates)\n",
    "classmates.append('Sam')\n",
    "print('Sam' in classmates)"
   ]
  },
  {
   "cell_type": "code",
   "execution_count": null,
   "metadata": {},
   "outputs": [],
   "source": [
    "#NOTE: the range is subjective.\n",
    "#mariah = {\n",
    "#    'name':'Mariah Carey',\n",
    "#    'age':'unknown',\n",
    "#    'has the range':True\n",
    "#}\n",
    "\n",
    "#taylor = {\n",
    "#    'name':'Taylor Swift',\n",
    "#    'age':29,\n",
    "#    'has the range':False\n",
    "#}\n",
    "\n",
    "#ariana = {\n",
    "#    'name':'Ariana Grande',\n",
    "#    'age':26,\n",
    "#    'has the range':True\n",
    "#}\n",
    "\n",
    "#nicki = {\n",
    "#    'name':'Nicki Minaj',\n",
    "#    'age':36,\n",
    "#    'has the range':False\n",
    "#}\n",
    "\n",
    "#rihanna = {\n",
    "#    'name':'Rihanna',\n",
    "#    'age':31,\n",
    "    'has the range':True\n",
    "}\n",
    "\n",
    "barbra = {\n",
    "    'name':'Barbra Streisand',\n",
    "    'age':77,\n",
    "    'has the range':True\n",
    "}"
   ]
  },
  {
   "cell_type": "code",
   "execution_count": null,
   "metadata": {},
   "outputs": [],
   "source": [
    "artists = [mariah, taylor, ariana, nicki, rihanna]"
   ]
  }
 ],
 "metadata": {
  "kernelspec": {
   "display_name": "Python 3",
   "language": "python",
   "name": "python3"
  },
  "language_info": {
   "codemirror_mode": {
    "name": "ipython",
    "version": 3
   },
   "file_extension": ".py",
   "mimetype": "text/x-python",
   "name": "python",
   "nbconvert_exporter": "python",
   "pygments_lexer": "ipython3",
   "version": "3.7.1"
  }
 },
 "nbformat": 4,
 "nbformat_minor": 2
}
