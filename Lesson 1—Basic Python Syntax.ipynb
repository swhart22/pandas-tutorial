{
 "cells": [
  {
   "cell_type": "code",
   "execution_count": 1,
   "metadata": {},
   "outputs": [],
   "source": [
    "#This is a comment."
   ]
  },
  {
   "cell_type": "code",
   "execution_count": 2,
   "metadata": {},
   "outputs": [
    {
     "name": "stdout",
     "output_type": "stream",
     "text": [
      "Hello world!\n"
     ]
    }
   ],
   "source": [
    "\n",
    "print('Hello world!')"
   ]
  },
  {
   "cell_type": "markdown",
   "metadata": {},
   "source": [
    "The cell above prints a **string**. In Python, a string is a series of characters. To signify a string, the characters are included between single or double quotation marks (it doesn't matter which)."
   ]
  },
  {
   "cell_type": "code",
   "execution_count": 3,
   "metadata": {},
   "outputs": [
    {
     "name": "stdout",
     "output_type": "stream",
     "text": [
      "1\n"
     ]
    }
   ],
   "source": [
    "print(1)"
   ]
  },
  {
   "cell_type": "markdown",
   "metadata": {},
   "source": [
    "The cell above prints an **integer**. In Python, an integer is a positive or negative whole number. Integers appear without quotation marks around them"
   ]
  },
  {
   "cell_type": "code",
   "execution_count": 4,
   "metadata": {},
   "outputs": [
    {
     "name": "stdout",
     "output_type": "stream",
     "text": [
      "2\n",
      "11\n"
     ]
    }
   ],
   "source": [
    "print(1 + 1)\n",
    "print('1' + '1')"
   ]
  },
  {
   "cell_type": "markdown",
   "metadata": {},
   "source": [
    "Notice how the first line prints the sum of 1 and 1, and the second line presents the characters '1' and '1' in sequence. This is because the first line adds two integers together, and the second line concatenates two strings together."
   ]
  },
  {
   "cell_type": "code",
   "execution_count": 5,
   "metadata": {},
   "outputs": [
    {
     "name": "stdout",
     "output_type": "stream",
     "text": [
      "8\n",
      "6\n",
      "4.0\n",
      "9\n"
     ]
    }
   ],
   "source": [
    "print(1 + 7)\n",
    "print(7 - 1)\n",
    "print(36 / 9)\n",
    "print(3 * 3)"
   ]
  },
  {
   "cell_type": "markdown",
   "metadata": {},
   "source": [
    "You can add (+), subtract (-), multiply (\\*) and divide (/) with Python. These symbols are called **operators**."
   ]
  },
  {
   "cell_type": "code",
   "execution_count": 6,
   "metadata": {},
   "outputs": [
    {
     "name": "stdout",
     "output_type": "stream",
     "text": [
      "6\n",
      "3\n",
      "3 remainder 6\n",
      "9\n"
     ]
    }
   ],
   "source": [
    "print(36 % 10)\n",
    "print(36 // 10)\n",
    "print(str(36 // 10) + ' remainder ' + str(36 % 10))\n",
    "print(3**2)"
   ]
  },
  {
   "cell_type": "markdown",
   "metadata": {},
   "source": [
    "(%) finds the remainder of a first integer divided by a second. (//) finds how many times the second integer goes into the first. (\\*\\*) raises the first number to the power of the second. `str()` coerces an integer into a string, right then and there."
   ]
  },
  {
   "cell_type": "code",
   "execution_count": 7,
   "metadata": {},
   "outputs": [
    {
     "name": "stdout",
     "output_type": "stream",
     "text": [
      "Vrushank is 71inches tall\n"
     ]
    }
   ],
   "source": [
    "name = 'Sam'\n",
    "\n",
    "height = 71\n",
    "unit = 'inches'\n",
    "\n",
    "name = 'Vrushank'\n",
    "\n",
    "print(name + ' is ' + str(height) + unit + ' tall')"
   ]
  },
  {
   "cell_type": "markdown",
   "metadata": {},
   "source": [
    "In the cell above, I define **variables**. Variables can store strings, integers, and all kinds of other data types yet to be explored. Variables can also be overwritten. A variable in Python must NOT begin with a number. Usually variables begin with a lowercase letter, and either follow \"camel case\" convention `myVariable` or underscore convention `my_variable`. You may set a value to a variable using a single equals sign."
   ]
  },
  {
   "cell_type": "code",
   "execution_count": 8,
   "metadata": {},
   "outputs": [
    {
     "name": "stdout",
     "output_type": "stream",
     "text": [
      "Vrushank is 71 inches tall\n",
      "Vrushank is 71 inches tall.\n",
      "Vrushank is 71 inches tall\n",
      "Vrushank is 5 feet and 11 inches tall.\n"
     ]
    }
   ],
   "source": [
    "print(name + ' is ' + str(height) + ' ' + unit + ' tall')\n",
    "print('{} is {} {} tall.'.format(name, height, unit))\n",
    "print(f'{name} is {height} {unit} tall')\n",
    "print(f'{name} is {height // 12} feet and {height % 12} inches tall.')\n"
   ]
  },
  {
   "cell_type": "markdown",
   "metadata": {},
   "source": [
    "Often in Python you'll want to write out strings that contain information you've stored in variables, or information that will change. There are several ways you can print out strings with variables in the middle. \n",
    "\n",
    "You can concatenate strings together by using plus (+) signs but you have to make sure all the pieces you're stringing together are ... strings. A better way to do that is to use **format**, where you can write a string uninterrupted by plus signs, give your variables placeholders denoted by `{}` and then specify the variables at the end of the string with `.format(variableHere)`. By far the most intuitive way (in my opinion and many others), is to use an **f-string**, where you simply include an `f` immediately before the first single or double quotations, and then include your variables (or operations) within `{}` within your string."
   ]
  },
  {
   "cell_type": "code",
   "execution_count": 9,
   "metadata": {},
   "outputs": [
    {
     "name": "stdout",
     "output_type": "stream",
     "text": [
      "6 feet and 0 inches\n"
     ]
    }
   ],
   "source": [
    "def formatHeight(inches):\n",
    "    feet = inches // 12\n",
    "    remainder = inches % 12\n",
    "    return f'{feet} feet and {remainder} inches'\n",
    "\n",
    "print(formatHeight(72))"
   ]
  },
  {
   "cell_type": "markdown",
   "metadata": {},
   "source": [
    "In Python, you can use a **function** to achieve a desired output. Functions are declared using `def`, then your `functionName` (similar to how you'd declare a variable), then your arguments in parentheses (your argument(s) are your input), followed by a colon.\n",
    "\n",
    "Any code to be executed as part of the function is indented after this colon. A function's `return` statement designates its output, based on whatever code has been run in the function.\n",
    "\n",
    "Defining a function will not automatically run the function. To run the function, you may write the function name followed by `()` that include your arguments. "
   ]
  },
  {
   "cell_type": "code",
   "execution_count": 10,
   "metadata": {},
   "outputs": [
    {
     "name": "stdout",
     "output_type": "stream",
     "text": [
      "Vrushank is 6 feet and 8 inches\n"
     ]
    }
   ],
   "source": [
    "print(f'{name} is { formatHeight(80) }')"
   ]
  },
  {
   "cell_type": "code",
   "execution_count": 21,
   "metadata": {},
   "outputs": [
    {
     "ename": "NameError",
     "evalue": "name 'feet' is not defined",
     "output_type": "error",
     "traceback": [
      "\u001b[0;31m---------------------------------------------------------------------------\u001b[0m",
      "\u001b[0;31mNameError\u001b[0m                                 Traceback (most recent call last)",
      "\u001b[0;32m<ipython-input-21-ed561cd8feaf>\u001b[0m in \u001b[0;36m<module>\u001b[0;34m\u001b[0m\n\u001b[1;32m     11\u001b[0m         \u001b[0;32mreturn\u001b[0m \u001b[0;34mf'{feet} feet and {remainder} inches'\u001b[0m\u001b[0;34m\u001b[0m\u001b[0;34m\u001b[0m\u001b[0m\n\u001b[1;32m     12\u001b[0m \u001b[0;34m\u001b[0m\u001b[0m\n\u001b[0;32m---> 13\u001b[0;31m \u001b[0mprint\u001b[0m\u001b[0;34m(\u001b[0m\u001b[0mfeet\u001b[0m\u001b[0;34m)\u001b[0m\u001b[0;34m\u001b[0m\u001b[0;34m\u001b[0m\u001b[0m\n\u001b[0m\u001b[1;32m     14\u001b[0m \u001b[0mprint\u001b[0m\u001b[0;34m(\u001b[0m\u001b[0mformatHeightNew\u001b[0m\u001b[0;34m(\u001b[0m\u001b[0;36m73\u001b[0m\u001b[0;34m)\u001b[0m\u001b[0;34m)\u001b[0m\u001b[0;34m\u001b[0m\u001b[0;34m\u001b[0m\u001b[0m\n",
      "\u001b[0;31mNameError\u001b[0m: name 'feet' is not defined"
     ]
    }
   ],
   "source": [
    "def formatHeightNew(inches, feet):\n",
    "    feet = inches // 12\n",
    "    remainder = inches % 12\n",
    "    \n",
    "    if remainder == 0:\n",
    "        return f'{feet} feet'\n",
    "    elif remainder == 1:\n",
    "        return f'the remainder is 1'\n",
    "    else:\n",
    "        return f'{feet} feet and {remainder} inches'\n",
    "\n",
    "print(formatHeightNew(73))"
   ]
  },
  {
   "cell_type": "markdown",
   "metadata": {},
   "source": [
    "You can call a function from within an f-string."
   ]
  },
  {
   "cell_type": "code",
   "execution_count": 12,
   "metadata": {},
   "outputs": [
    {
     "name": "stdout",
     "output_type": "stream",
     "text": [
      "{'name': 'Sam', 'height': 72, 'likes halal guys': False, 'favorite ice cream': 'chocolate', 'pet': {'type': 'dog', 'name': 'bingo'}}\n",
      "Sam\n",
      "72\n"
     ]
    }
   ],
   "source": [
    "sam = {'name': 'Sam',\n",
    "       'height': 72,\n",
    "       'likes halal guys':False,\n",
    "       'favorite ice cream':'chocolate',\n",
    "        'pet':{\n",
    "            'type':'dog',\n",
    "            'name':'bingo'\n",
    "        }}\n",
    "print(sam)\n",
    "print(sam['name'])\n",
    "print(sam['height'])\n",
    "#print(sam['likes mcdonalds'])"
   ]
  },
  {
   "cell_type": "markdown",
   "metadata": {},
   "source": [
    "A **dictionary** is a new type of data specified between `{}`. A dictionary includes key-value pairs as you see above. \n",
    "\n",
    "A dictionary's keys may be accessed by the following format: `dict['key']`. Note that keys should be strings. Values, however may be any data type, (including another dictionary)."
   ]
  },
  {
   "cell_type": "code",
   "execution_count": 13,
   "metadata": {},
   "outputs": [],
   "source": [
    "sam['favorite artist'] = 'Mariah Carey'\n",
    "sam['height'] = 80\n",
    "\n",
    "#print(sam[1])"
   ]
  },
  {
   "cell_type": "markdown",
   "metadata": {},
   "source": [
    "You can add new keys to an existing dictionary by declaring them similarly to how you would declare a standalone variable. `dict['new key'] = 'value'`\n"
   ]
  },
  {
   "cell_type": "code",
   "execution_count": 14,
   "metadata": {},
   "outputs": [
    {
     "name": "stdout",
     "output_type": "stream",
     "text": [
      "True\n",
      "False\n",
      "True\n",
      "False\n",
      "True\n",
      "False\n",
      "True\n",
      "True\n",
      "False\n",
      "False\n",
      "True\n",
      "False\n",
      "True\n"
     ]
    }
   ],
   "source": [
    "print(True)\n",
    "print(False)\n",
    "print(1 + 1 == 2)\n",
    "print(1 + 1 == 3)\n",
    "print(1 + 1 != 3)\n",
    "print(1 + 1 >= 3)\n",
    "print(0 == False)\n",
    "print(1 == True)\n",
    "print(2 == True)\n",
    "print(sam['height'] >= 82)\n",
    "print('favorite artist' in sam)\n",
    "print(1 - 1 == -1 and 1 + 1 == 2)\n",
    "print(1 - 1 == -1 or 1 + 1 == 2 or 5 + 6 == 13)"
   ]
  },
  {
   "cell_type": "code",
   "execution_count": 15,
   "metadata": {},
   "outputs": [
    {
     "name": "stdout",
     "output_type": "stream",
     "text": [
      "False\n",
      "False\n",
      "True\n"
     ]
    }
   ],
   "source": [
    "print(sam['favorite ice cream'] == 'chocolate ')\n",
    "print('True' == True)\n",
    "print('favorite ice cream' in sam)"
   ]
  },
  {
   "cell_type": "markdown",
   "metadata": {},
   "source": [
    "A **boolean** is another data type in Python. Booleans are either `True` or `False`. If an expression in Python is interpreted as having *truthy* or *falsy* value, Python will automatically evaluate it as a Boolean. For example, as you see above, printing (1 + 1 == 2) outputs `True`.\n",
    "\n",
    "Notice these new **operators**. `==` means one expression is equal to another, as opposed to our single `=` from earlier that is used to declare a variable. You also have `!=` (not equal to), `>=` (greater than or equal to), `<=` (less than or equal to), `<` (less than), `>` (greater than)."
   ]
  },
  {
   "cell_type": "code",
   "execution_count": 16,
   "metadata": {},
   "outputs": [
    {
     "name": "stdout",
     "output_type": "stream",
     "text": [
      "7\n",
      "True\n",
      "Emilie\n",
      "False\n",
      "True\n",
      "['Vrushank', 'Yuqing', 'Emilie', 'Nina', 'Nelson', 'Dan', 'Noreen', 'Sam']\n",
      "range(0, 6)\n",
      "range(6, 12)\n",
      "range(6, 12, 2)\n"
     ]
    }
   ],
   "source": [
    "classmates = ['Vrushank', 'Yuqing', 'Emilie', 'Nina', 'Nelson', 'Dan', 'Noreen']\n",
    "\n",
    "print(len(classmates))\n",
    "print('Nina' in classmates)\n",
    "print(classmates[2])\n",
    "print('Sam' in classmates)\n",
    "classmates.append('Sam')\n",
    "print('Sam' in classmates)\n",
    "print(classmates[0:8])\n",
    "print(range(6))\n",
    "print(range(6, 12))\n",
    "print(range(6, 12, 2))"
   ]
  },
  {
   "cell_type": "markdown",
   "metadata": {},
   "source": [
    "This data structure stored in the variable `classmates` is called a **list**. Lists are data stored between `[]` and separated by commas. This is a list of strings. You may create a list of numbers, a list of strings, a list of dictionaries, a list of booleans—you are free as a bird to create whatever kind of list you want.\n",
    "\n",
    "Each item in a list has an **index**, starting with 0. So as you can see, `classmates[2]` gives you 'Emilie.' To add a new item to your list, you can call `.append(new_item)` on your list. To get a particular section of your list, you can write `list_name[start: length]` where `list_name` is your list name, `start` is the index of where you would like to start, and `length` is how many items into the list you'd like to go.\n",
    "\n",
    "`range(integer)` can create a list for you on the fly of the amount of numbers you've specified. `range(start, stop)` specifies which integer you want to start with as `start`, and where to stop as `stop`. `range(start, stop, step)` is the same, but adds `step` to dictate the size of step to take."
   ]
  },
  {
   "cell_type": "code",
   "execution_count": 17,
   "metadata": {},
   "outputs": [
    {
     "name": "stdout",
     "output_type": "stream",
     "text": [
      "1\n",
      "1\n",
      "2\n",
      "2 is an even number\n",
      "3\n",
      "5\n",
      "8\n",
      "8 is an even number\n",
      "13\n",
      "21\n",
      "34\n",
      "34 is an even number\n",
      "55\n",
      "89\n",
      "144\n",
      "144 is an even number\n"
     ]
    }
   ],
   "source": [
    "numbers = [1, 1, 2, 3, 5, 8, 13, 21, 34, 55, 89, 144]\n",
    "\n",
    "for n in numbers:\n",
    "    print(n)\n",
    "    if n % 2 == 0:\n",
    "        print(f'{n} is an even number')"
   ]
  },
  {
   "cell_type": "markdown",
   "metadata": {},
   "source": [
    "A **for loop** will *iterate* over a list, and perform a chunk of code you write for each of the items in that list. The structure of a for loop can be seen above. The `n` in this loop is each particular item at that point in the iteration. `numbers` is the list to loop over.\n",
    "\n",
    "An **if else statement** can be written in a for loop or a function, and executes code based on a *truthy* or *falsy* statement. *if* *condition is true* then *do this code*."
   ]
  },
  {
   "cell_type": "code",
   "execution_count": 18,
   "metadata": {},
   "outputs": [],
   "source": [
    "#NOTE: the range is subjective.\n",
    "mariah = {\n",
    "    'name':'Mariah Carey',\n",
    "    'age':'49',\n",
    "    'has the range':True\n",
    "}\n",
    "\n",
    "taylor = {\n",
    "    'name':'Taylor Swift',\n",
    "    'age':29,\n",
    "    'has the range':False\n",
    "}\n",
    "\n",
    "ariana = {\n",
    "    'name':'Ariana Grande',\n",
    "    'age':26,\n",
    "    'has the range':True\n",
    "}\n",
    "\n",
    "nicki = {\n",
    "    'name':'Nicki Minaj',\n",
    "    'age':36,\n",
    "    'has the range':False\n",
    "}\n",
    "\n",
    "rihanna = {\n",
    "    'name':'Rihanna',\n",
    "    'age':31,\n",
    "    'has the range':True\n",
    "}\n",
    "\n",
    "barbra = {\n",
    "    'name':'Barbra Streisand',\n",
    "    'age':77,\n",
    "    'has the range':True\n",
    "}"
   ]
  },
  {
   "cell_type": "code",
   "execution_count": 19,
   "metadata": {},
   "outputs": [
    {
     "name": "stdout",
     "output_type": "stream",
     "text": [
      "{'name': 'Mariah Carey', 'age': '49', 'has the range': True}\n",
      "{'name': 'Taylor Swift', 'age': 29, 'has the range': False}\n",
      "{'name': 'Ariana Grande', 'age': 26, 'has the range': True}\n",
      "{'name': 'Nicki Minaj', 'age': 36, 'has the range': False}\n",
      "{'name': 'Rihanna', 'age': 31, 'has the range': True}\n"
     ]
    }
   ],
   "source": [
    "artists = [mariah, taylor, ariana, nicki, rihanna]\n",
    "\n",
    "\n",
    "sam['favorite artists'] = artists\n",
    "(sam['favorite artists'][1])\n",
    "\n",
    "for a in sam['favorite artists']:\n",
    "    print(a)\n",
    "\n"
   ]
  },
  {
   "cell_type": "code",
   "execution_count": 20,
   "metadata": {},
   "outputs": [
    {
     "name": "stdout",
     "output_type": "stream",
     "text": [
      "5\n",
      "5\n",
      "9\n",
      "4.0\n"
     ]
    }
   ],
   "source": [
    "x = 1\n",
    "x += 4\n",
    "print(x)\n",
    "\n",
    "y = 10\n",
    "y -= 5\n",
    "print(y)\n",
    "\n",
    "z = 1\n",
    "z *= 9\n",
    "print(z)\n",
    "\n",
    "a = 12\n",
    "a /= 3\n",
    "print(a)"
   ]
  },
  {
   "cell_type": "markdown",
   "metadata": {},
   "source": [
    "These funny-looking operators you see (+=, -=, \\*=, /=) are called **assignment operators**. They are called this because they do two things at once: they act as normal operators while also assigning a new value to the variable. Think of them this way:\n",
    "\n",
    "`x += 4` means `x = x + 4`. The assignment operator takes an existing value and adds (or subtracts or multiplies or divides) a given value from the existing value. This is useful shorthand when you are looping over items and want to accumulate an initialized value based on the values you're looping over (i.e., finding the sum of an array of numbers)."
   ]
  }
 ],
 "metadata": {
  "kernelspec": {
   "display_name": "Python 3",
   "language": "python",
   "name": "python3"
  },
  "language_info": {
   "codemirror_mode": {
    "name": "ipython",
    "version": 3
   },
   "file_extension": ".py",
   "mimetype": "text/x-python",
   "name": "python",
   "nbconvert_exporter": "python",
   "pygments_lexer": "ipython3",
   "version": "3.7.1"
  }
 },
 "nbformat": 4,
 "nbformat_minor": 2
}
