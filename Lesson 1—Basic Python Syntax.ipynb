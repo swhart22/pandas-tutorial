{
 "cells": [
  {
   "cell_type": "code",
   "execution_count": 15,
   "metadata": {},
   "outputs": [],
   "source": [
    "#This is a comment."
   ]
  },
  {
   "cell_type": "code",
   "execution_count": 10,
   "metadata": {},
   "outputs": [
    {
     "name": "stdout",
     "output_type": "stream",
     "text": [
      "Hello world!\n"
     ]
    }
   ],
   "source": [
    "\n",
    "print('Hello world!')"
   ]
  },
  {
   "cell_type": "markdown",
   "metadata": {},
   "source": [
    "The cell above prints a **string**. In Python, a string is a series of characters. To signify a string, the characters are included between single or double quotation marks (it doesn't matter which)."
   ]
  },
  {
   "cell_type": "code",
   "execution_count": 2,
   "metadata": {},
   "outputs": [
    {
     "name": "stdout",
     "output_type": "stream",
     "text": [
      "1\n"
     ]
    }
   ],
   "source": [
    "print(1)"
   ]
  },
  {
   "cell_type": "markdown",
   "metadata": {},
   "source": [
    "The cell above prints an **integer**. In Python, an integer is a positive or negative whole number. Integers appear without quotation marks around them"
   ]
  },
  {
   "cell_type": "code",
   "execution_count": 11,
   "metadata": {},
   "outputs": [
    {
     "name": "stdout",
     "output_type": "stream",
     "text": [
      "2\n",
      "2.0\n"
     ]
    }
   ],
   "source": [
    "print(1 + 1)\n",
    "print('1' + '1')"
   ]
  },
  {
   "cell_type": "markdown",
   "metadata": {},
   "source": [
    "Notice how the first line prints the sum of 1 and 1, and the second line presents the characters '1' and '1' in sequence. This is because the first line adds two integers together, and the second line concatenates two strings together."
   ]
  },
  {
   "cell_type": "code",
   "execution_count": 3,
   "metadata": {},
   "outputs": [
    {
     "name": "stdout",
     "output_type": "stream",
     "text": [
      "8\n",
      "6\n",
      "4.0\n",
      "9\n"
     ]
    }
   ],
   "source": [
    "print(1 + 7)\n",
    "print(7 - 1)\n",
    "print(36 / 9)\n",
    "print(3 * 3)"
   ]
  },
  {
   "cell_type": "markdown",
   "metadata": {},
   "source": [
    "You can add (+), subtract (-), multiply (\\*) and divide (/) with Python. These symbols are called **operators**."
   ]
  },
  {
   "cell_type": "code",
   "execution_count": 4,
   "metadata": {},
   "outputs": [
    {
     "name": "stdout",
     "output_type": "stream",
     "text": [
      "6\n",
      "3\n",
      "3 remainder 6\n",
      "9\n"
     ]
    }
   ],
   "source": [
    "print(36 % 10)\n",
    "print(36 // 10)\n",
    "print(str(36 // 10) + ' remainder ' + str(36 % 10))\n",
    "print(3**2)"
   ]
  },
  {
   "cell_type": "markdown",
   "metadata": {},
   "source": [
    "(%) finds the remainder of a first integer divided by a second. (//) finds how many times the second integer goes into the first. (\\*\\*) raises the first number to the power of the second. `str()` coerces an integer into a string, right then and there."
   ]
  },
  {
   "cell_type": "code",
   "execution_count": 6,
   "metadata": {},
   "outputs": [
    {
     "name": "stdout",
     "output_type": "stream",
     "text": [
      "Vrushank is 71inches tall\n"
     ]
    }
   ],
   "source": [
    "name = 'Sam'\n",
    "\n",
    "height = 71\n",
    "unit = 'inches'\n",
    "\n",
    "name = 'Vrushank'\n",
    "\n",
    "print(name + ' is ' + str(height) + unit + ' tall')"
   ]
  },
  {
   "cell_type": "markdown",
   "metadata": {},
   "source": [
    "In the cell above, I define **variables**. Variables can store strings, integers, and all kinds of other data types yet to be explored. Variables can also be overwritten. A variable in Python must NOT begin with a number. Usually variables begin with a lowercase letter, and either follow \"camel case\" convention `myVariable` or underscore convention `my_variable`. You may set a value to a variable using a single equals sign."
   ]
  },
  {
   "cell_type": "code",
   "execution_count": 7,
   "metadata": {},
   "outputs": [
    {
     "name": "stdout",
     "output_type": "stream",
     "text": [
      "Vrushank is 71 inches tall\n",
      "Vrushank is 71 inches tall.\n",
      "Vrushank is 71 inches tall\n",
      "Vrushank is 5 feet and 11 inches tall.\n"
     ]
    }
   ],
   "source": [
    "print(name + ' is ' + str(height) + ' ' + unit + ' tall')\n",
    "print('{} is {} {} tall.'.format(name, height, unit))\n",
    "print(f'{name} is {height} {unit} tall')\n",
    "print(f'{name} is {height // 12} feet and {height % 12} inches tall.')"
   ]
  },
  {
   "cell_type": "markdown",
   "metadata": {},
   "source": [
    "Often in Python you'll want to write out strings that contain information you've stored in variables, or information that will change. There are several ways you can print out strings with variables in the middle. \n",
    "\n",
    "You can concatenate strings together by using plus (+) signs but you have to make sure all the pieces you're stringing together are ... strings. A better way to do that is to use **format**, where you can write a string uninterrupted by plus signs, give your variables placeholders denoted by `{}` and then specify the variables at the end of the string with `.format(variableHere)`. By far the most intuitive way (in my opinion and many others), is to use an **f-string**, where you simply include an `f` immediately before the first single or double quotations, and then include your variables (or operations) within `{}` within your string."
   ]
  },
  {
   "cell_type": "code",
   "execution_count": 8,
   "metadata": {},
   "outputs": [
    {
     "name": "stdout",
     "output_type": "stream",
     "text": [
      "6 feet and 0 inches\n"
     ]
    }
   ],
   "source": [
    "def formatHeight(inches):\n",
    "    feet = inches // 12\n",
    "    remainder = inches % 12\n",
    "    return f'{feet} feet and {remainder} inches'\n",
    "\n",
    "print(formatHeight(72))"
   ]
  },
  {
   "cell_type": "markdown",
   "metadata": {},
   "source": [
    "In Python, you can use a **function** to achieve a desired output. Functions are declared using `def`, then your `functionName` (similar to how you'd declare a variable), then your arguments in parentheses (your argument(s) are your input), followed by a colon.\n",
    "\n",
    "Any code to be executed as part of the function is indented after this colon. A function's `return` statement designates its output, based on whatever code has been run in the function.\n",
    "\n",
    "Defining a function will not automatically run the function. To run the function, you may write the function name followed by `()` that include your arguments. "
   ]
  },
  {
   "cell_type": "code",
   "execution_count": 9,
   "metadata": {},
   "outputs": [
    {
     "name": "stdout",
     "output_type": "stream",
     "text": [
      "Vrushank is 6 feet and 8 inches\n"
     ]
    }
   ],
   "source": [
    "print(f'{name} is { formatHeight(80) }')"
   ]
  },
  {
   "cell_type": "markdown",
   "metadata": {},
   "source": [
    "You can call a function from within an f-string."
   ]
  },
  {
   "cell_type": "code",
   "execution_count": 88,
   "metadata": {},
   "outputs": [
    {
     "name": "stdout",
     "output_type": "stream",
     "text": [
      "{'name': 'Sam', 'height': 72}\n",
      "Sam\n",
      "72\n",
      "6 feet and 0 inches\n"
     ]
    }
   ],
   "source": [
    "sam = {'name': 'Sam', 'height': 72}\n",
    "print(sam)\n",
    "print(sam['name'])\n",
    "print(sam['height'])\n",
    "print(formatHeight(sam['height']))"
   ]
  },
  {
   "cell_type": "markdown",
   "metadata": {},
   "source": [
    "A **dictionary** is a new type of data specified between `{}`. A dictionary includes key-value pairs as you see above. \n",
    "\n",
    "A dictionary's keys may be accessed by the following format: `dict['key']`. Note that keys should be strings. Values, however may be any data type, (including another dictionary)."
   ]
  },
  {
   "cell_type": "code",
   "execution_count": 89,
   "metadata": {},
   "outputs": [],
   "source": [
    "sam['favorite artist'] = 'Mariah Carey'\n",
    "sam['height'] = 80\n",
    "\n",
    "#print(sam[1])"
   ]
  },
  {
   "cell_type": "markdown",
   "metadata": {},
   "source": [
    "You can add new keys to an existing dictionary by declaring them similarly to how you would declare a standalone variable. `dict['new key'] = 'value'`\n"
   ]
  },
  {
   "cell_type": "code",
   "execution_count": 116,
   "metadata": {},
   "outputs": [
    {
     "name": "stdout",
     "output_type": "stream",
     "text": [
      "True\n",
      "False\n",
      "True\n",
      "False\n",
      "True\n",
      "False\n",
      "True\n",
      "True\n",
      "False\n",
      "False\n",
      "False\n",
      "False\n"
     ]
    }
   ],
   "source": [
    "print(True)\n",
    "print(False)\n",
    "print(1 + 1 == 2)\n",
    "print(1 + 1 == 3)\n",
    "print(1 + 1 != 3)\n",
    "print(1 + 1 >= 3)\n",
    "print(0 == False)\n",
    "print(1 == True)\n",
    "print(2 == True)\n",
    "print(sam['height'] >= 82)\n",
    "print('favorite artist' not in sam)\n",
    "print(1 - 1 == -1 and 1 + 1 == 2)"
   ]
  },
  {
   "cell_type": "markdown",
   "metadata": {},
   "source": [
    "A **boolean** is another data type in Python. Booleans are either `True` or `False`. If an expression in Python is interpreted as having *truthy* or *falsy* value, Python will automatically evaluate it as a Boolean. For example, as you see above, printing (1 + 1 == 2) outputs `True`.\n",
    "\n",
    "Notice these new **operators**. `==` means one expression is equal to another, as opposed to our single `=` from earlier that is used to declare a variable. You also have `!=` (not equal to), `>=` (greater than or equal to), `<=` (less than or equal to), `<` (less than), `>` (greater than)."
   ]
  },
  {
   "cell_type": "code",
   "execution_count": 117,
   "metadata": {},
   "outputs": [
    {
     "name": "stdout",
     "output_type": "stream",
     "text": [
      "6 feet\n"
     ]
    }
   ],
   "source": [
    "#CHALLENGE: what's another way we could write this?\n",
    "def formatHeight2 (person):\n",
    "    height = person['height']\n",
    "    feet = height // 12\n",
    "    remainder = height % 12\n",
    "    output = ''\n",
    "    \n",
    "    if remainder == 0:\n",
    "        output = f'{feet} feet'\n",
    "    else: \n",
    "        output = f'{feet} feet and {remainder} inches'\n",
    "    return output\n",
    "\n",
    "sam['height'] = 72\n",
    "print(formatHeight2(sam))"
   ]
  },
  {
   "cell_type": "code",
   "execution_count": 118,
   "metadata": {},
   "outputs": [
    {
     "name": "stdout",
     "output_type": "stream",
     "text": [
      "7\n",
      "True\n",
      "False\n",
      "True\n"
     ]
    }
   ],
   "source": [
    "classmates = ['Vrushank', 'Yuqing', 'Emilie', 'Nina', 'Nelson', 'Dan', 'Noreen']\n",
    "print(len(classmates))\n",
    "print('Vrushank' in classmates)\n",
    "print('Sam' in classmates)\n",
    "classmates.append('Sam')\n",
    "print('Sam' in classmates)"
   ]
  },
  {
   "cell_type": "code",
   "execution_count": null,
   "metadata": {},
   "outputs": [],
   "source": [
    "#NOTE: the range is subjective.\n",
    "#mariah = {\n",
    "#    'name':'Mariah Carey',\n",
    "#    'age':'unknown',\n",
    "#    'has the range':True\n",
    "#}\n",
    "\n",
    "#taylor = {\n",
    "#    'name':'Taylor Swift',\n",
    "#    'age':29,\n",
    "#    'has the range':False\n",
    "#}\n",
    "\n",
    "#ariana = {\n",
    "#    'name':'Ariana Grande',\n",
    "#    'age':26,\n",
    "#    'has the range':True\n",
    "#}\n",
    "\n",
    "#nicki = {\n",
    "#    'name':'Nicki Minaj',\n",
    "#    'age':36,\n",
    "#    'has the range':False\n",
    "#}\n",
    "\n",
    "#rihanna = {\n",
    "#    'name':'Rihanna',\n",
    "#    'age':31,\n",
    "    'has the range':True\n",
    "}\n",
    "\n",
    "barbra = {\n",
    "    'name':'Barbra Streisand',\n",
    "    'age':77,\n",
    "    'has the range':True\n",
    "}"
   ]
  },
  {
   "cell_type": "code",
   "execution_count": null,
   "metadata": {},
   "outputs": [],
   "source": [
    "artists = [mariah, taylor, ariana, nicki, rihanna]"
   ]
  },
  {
   "cell_type": "code",
   "execution_count": 13,
   "metadata": {},
   "outputs": [
    {
     "ename": "RecursionError",
     "evalue": "maximum recursion depth exceeded while calling a Python object",
     "output_type": "error",
     "traceback": [
      "\u001b[0;31m---------------------------------------------------------------------------\u001b[0m",
      "\u001b[0;31mRecursionError\u001b[0m                            Traceback (most recent call last)",
      "\u001b[0;32m<ipython-input-13-32da6af414f5>\u001b[0m in \u001b[0;36m<module>\u001b[0;34m\u001b[0m\n\u001b[1;32m     12\u001b[0m         \u001b[0;32mreturn\u001b[0m \u001b[0mmid\u001b[0m\u001b[0;34m\u001b[0m\u001b[0;34m\u001b[0m\u001b[0m\n\u001b[1;32m     13\u001b[0m \u001b[0;34m\u001b[0m\u001b[0m\n\u001b[0;32m---> 14\u001b[0;31m \u001b[0mprint\u001b[0m\u001b[0;34m(\u001b[0m\u001b[0mbinarySearch\u001b[0m\u001b[0;34m(\u001b[0m\u001b[0mnumbers\u001b[0m\u001b[0;34m,\u001b[0m \u001b[0;36m0\u001b[0m\u001b[0;34m,\u001b[0m \u001b[0mlen\u001b[0m\u001b[0;34m(\u001b[0m\u001b[0mnumbers\u001b[0m\u001b[0;34m)\u001b[0m \u001b[0;34m-\u001b[0m \u001b[0;36m1\u001b[0m\u001b[0;34m,\u001b[0m \u001b[0;36m144\u001b[0m\u001b[0;34m)\u001b[0m\u001b[0;34m)\u001b[0m\u001b[0;34m\u001b[0m\u001b[0;34m\u001b[0m\u001b[0m\n\u001b[0m",
      "\u001b[0;32m<ipython-input-13-32da6af414f5>\u001b[0m in \u001b[0;36mbinarySearch\u001b[0;34m(arr, l, r, x)\u001b[0m\n\u001b[1;32m      8\u001b[0m         \u001b[0mbinarySearch\u001b[0m\u001b[0;34m(\u001b[0m\u001b[0marr\u001b[0m\u001b[0;34m,\u001b[0m \u001b[0ml\u001b[0m\u001b[0;34m,\u001b[0m \u001b[0mmid\u001b[0m\u001b[0;34m,\u001b[0m \u001b[0mx\u001b[0m\u001b[0;34m)\u001b[0m\u001b[0;34m\u001b[0m\u001b[0;34m\u001b[0m\u001b[0m\n\u001b[1;32m      9\u001b[0m     \u001b[0;32melif\u001b[0m \u001b[0mx\u001b[0m \u001b[0;34m>\u001b[0m \u001b[0marr\u001b[0m\u001b[0;34m[\u001b[0m\u001b[0mmid\u001b[0m\u001b[0;34m]\u001b[0m\u001b[0;34m:\u001b[0m\u001b[0;34m\u001b[0m\u001b[0;34m\u001b[0m\u001b[0m\n\u001b[0;32m---> 10\u001b[0;31m         \u001b[0mbinarySearch\u001b[0m\u001b[0;34m(\u001b[0m\u001b[0marr\u001b[0m\u001b[0;34m,\u001b[0m \u001b[0mmid\u001b[0m\u001b[0;34m,\u001b[0m \u001b[0mr\u001b[0m\u001b[0;34m,\u001b[0m \u001b[0mx\u001b[0m\u001b[0;34m)\u001b[0m\u001b[0;34m\u001b[0m\u001b[0;34m\u001b[0m\u001b[0m\n\u001b[0m\u001b[1;32m     11\u001b[0m     \u001b[0;32melif\u001b[0m \u001b[0mx\u001b[0m \u001b[0;34m==\u001b[0m \u001b[0marr\u001b[0m\u001b[0;34m[\u001b[0m\u001b[0mmid\u001b[0m\u001b[0;34m]\u001b[0m\u001b[0;34m:\u001b[0m\u001b[0;34m\u001b[0m\u001b[0;34m\u001b[0m\u001b[0m\n\u001b[1;32m     12\u001b[0m         \u001b[0;32mreturn\u001b[0m \u001b[0mmid\u001b[0m\u001b[0;34m\u001b[0m\u001b[0;34m\u001b[0m\u001b[0m\n",
      "... last 1 frames repeated, from the frame below ...\n",
      "\u001b[0;32m<ipython-input-13-32da6af414f5>\u001b[0m in \u001b[0;36mbinarySearch\u001b[0;34m(arr, l, r, x)\u001b[0m\n\u001b[1;32m      8\u001b[0m         \u001b[0mbinarySearch\u001b[0m\u001b[0;34m(\u001b[0m\u001b[0marr\u001b[0m\u001b[0;34m,\u001b[0m \u001b[0ml\u001b[0m\u001b[0;34m,\u001b[0m \u001b[0mmid\u001b[0m\u001b[0;34m,\u001b[0m \u001b[0mx\u001b[0m\u001b[0;34m)\u001b[0m\u001b[0;34m\u001b[0m\u001b[0;34m\u001b[0m\u001b[0m\n\u001b[1;32m      9\u001b[0m     \u001b[0;32melif\u001b[0m \u001b[0mx\u001b[0m \u001b[0;34m>\u001b[0m \u001b[0marr\u001b[0m\u001b[0;34m[\u001b[0m\u001b[0mmid\u001b[0m\u001b[0;34m]\u001b[0m\u001b[0;34m:\u001b[0m\u001b[0;34m\u001b[0m\u001b[0;34m\u001b[0m\u001b[0m\n\u001b[0;32m---> 10\u001b[0;31m         \u001b[0mbinarySearch\u001b[0m\u001b[0;34m(\u001b[0m\u001b[0marr\u001b[0m\u001b[0;34m,\u001b[0m \u001b[0mmid\u001b[0m\u001b[0;34m,\u001b[0m \u001b[0mr\u001b[0m\u001b[0;34m,\u001b[0m \u001b[0mx\u001b[0m\u001b[0;34m)\u001b[0m\u001b[0;34m\u001b[0m\u001b[0;34m\u001b[0m\u001b[0m\n\u001b[0m\u001b[1;32m     11\u001b[0m     \u001b[0;32melif\u001b[0m \u001b[0mx\u001b[0m \u001b[0;34m==\u001b[0m \u001b[0marr\u001b[0m\u001b[0;34m[\u001b[0m\u001b[0mmid\u001b[0m\u001b[0;34m]\u001b[0m\u001b[0;34m:\u001b[0m\u001b[0;34m\u001b[0m\u001b[0;34m\u001b[0m\u001b[0m\n\u001b[1;32m     12\u001b[0m         \u001b[0;32mreturn\u001b[0m \u001b[0mmid\u001b[0m\u001b[0;34m\u001b[0m\u001b[0;34m\u001b[0m\u001b[0m\n",
      "\u001b[0;31mRecursionError\u001b[0m: maximum recursion depth exceeded while calling a Python object"
     ]
    }
   ],
   "source": [
    "numbers = [1, 1, 2, 3, 5, 8, 13, 21, 34, 55, 89, 144]\n",
    "\n",
    "def binarySearch(arr, l, r, x):\n",
    "    mid = len(arr) // 2\n",
    "    if r <= 1:\n",
    "        return -1\n",
    "    elif x < arr[mid]:\n",
    "        binarySearch(arr, l, mid, x)\n",
    "    elif x > arr[mid]:\n",
    "        binarySearch(arr, mid, r, x)\n",
    "    elif x == arr[mid]:\n",
    "        return mid\n",
    "    \n",
    "print(binarySearch(numbers, 0, len(numbers) - 1, 144))"
   ]
  }
 ],
 "metadata": {
  "kernelspec": {
   "display_name": "Python 3",
   "language": "python",
   "name": "python3"
  },
  "language_info": {
   "codemirror_mode": {
    "name": "ipython",
    "version": 3
   },
   "file_extension": ".py",
   "mimetype": "text/x-python",
   "name": "python",
   "nbconvert_exporter": "python",
   "pygments_lexer": "ipython3",
   "version": "3.7.1"
  }
 },
 "nbformat": 4,
 "nbformat_minor": 2
}
